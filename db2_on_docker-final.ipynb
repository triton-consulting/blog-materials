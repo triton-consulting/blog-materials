{
 "cells": [
  {
   "cell_type": "markdown",
   "metadata": {},
   "source": [
    "# Integrating DB2 on Docker with Jupyter Notebooks"
   ]
  },
  {
   "cell_type": "markdown",
   "metadata": {},
   "source": [
    "This notebook creates a Docker container running the latest DB2 image and executes some simple queries before removing the container.\n",
    "\n",
    "See the associated blog entry at: https://www.triton.co.uk/integrating-db2-on-docker-with-jupyter-notebooks/"
   ]
  },
  {
   "cell_type": "code",
   "execution_count": null,
   "metadata": {},
   "outputs": [],
   "source": [
    "%pip install docker --user\n",
    "%pip install ibm_db --user\n",
    "%pip install ibm_db_sa --user\n",
    "%pip install ipython-sql --user\n",
    "%pip install matplotlib --user"
   ]
  },
  {
   "cell_type": "code",
   "execution_count": null,
   "metadata": {},
   "outputs": [],
   "source": [
    "import os\n",
    "os._exit(00)"
   ]
  },
  {
   "cell_type": "code",
   "execution_count": null,
   "metadata": {},
   "outputs": [],
   "source": [
    "dockerImageName='JupyterDB2'\n",
    "dockerStoragePath='/home/docker_files/volumes'\n",
    "\n",
    "databaseInstancePassword='testpass'\n",
    "databaseInstanceExternalPort='50066'"
   ]
  },
  {
   "cell_type": "code",
   "execution_count": null,
   "metadata": {},
   "outputs": [],
   "source": [
    "import docker\n",
    "import ibm_db\n",
    "import time\n",
    "import matplotlib\n",
    "\n",
    "%reload_ext sql"
   ]
  },
  {
   "cell_type": "code",
   "execution_count": null,
   "metadata": {},
   "outputs": [],
   "source": [
    "cli = docker.from_env()"
   ]
  },
  {
   "cell_type": "code",
   "execution_count": null,
   "metadata": {
    "scrolled": false
   },
   "outputs": [],
   "source": [
    "cli.images.pull('ibmcom/db2:latest')"
   ]
  },
  {
   "cell_type": "code",
   "execution_count": null,
   "metadata": {},
   "outputs": [],
   "source": [
    "cli.containers.run(\n",
    "    'ibmcom/db2:latest',\n",
    "    auto_remove=True,\n",
    "    privileged=True,\n",
    "    detach=True,\n",
    "    name=dockerImageName,\n",
    "    environment={\"LICENSE\":\"accept\",\"DB2INST1_PASSWORD\":databaseInstancePassword,\"SAMPLEDB\":\"true\"},\n",
    "    ports={'50000': databaseInstanceExternalPort},\n",
    "    volumes={dockerStoragePath + dockerImageName: {'bind': '/database', 'mode': 'rw'}}\n",
    ")"
   ]
  },
  {
   "cell_type": "code",
   "execution_count": null,
   "metadata": {},
   "outputs": [],
   "source": [
    "container=(_)\n",
    "fin=0\n",
    "\n",
    "while fin == 0:\n",
    "    if (container.logs(tail=15).find(b'Setup has completed.') != -1):\n",
    "        fin=1\n",
    "    else:\n",
    "        print('Waiting for container to finish starting: ' + str(time.asctime(time.localtime())))\n",
    "        time.sleep(10)\n",
    "        \n",
    "print('DB container ready!')"
   ]
  },
  {
   "cell_type": "code",
   "execution_count": null,
   "metadata": {},
   "outputs": [],
   "source": [
    "%sql db2+ibm_db://db2inst1:$databaseInstancePassword@localhost:$databaseInstanceExternalPort/sample"
   ]
  },
  {
   "cell_type": "code",
   "execution_count": null,
   "metadata": {},
   "outputs": [],
   "source": [
    "%%sql SELECT 'Hello world! In container ' CONCAT host_name CONCAT ' the time is: ' \n",
    "CONCAT CHAR(current_timestamp) FROM TABLE(sysproc.env_get_sys_info()) as systeminfo;"
   ]
  },
  {
   "cell_type": "code",
   "execution_count": null,
   "metadata": {},
   "outputs": [],
   "source": [
    "chart = %sql select year(hiredate) as hire_year, count(*) as num_employees from employee group by year(hiredate)\n",
    "chart.bar();"
   ]
  },
  {
   "cell_type": "code",
   "execution_count": null,
   "metadata": {},
   "outputs": [],
   "source": [
    "container.stop()"
   ]
  }
 ],
 "metadata": {
  "kernelspec": {
   "display_name": "Python 3",
   "language": "python",
   "name": "python3"
  },
  "language_info": {
   "codemirror_mode": {
    "name": "ipython",
    "version": 3
   },
   "file_extension": ".py",
   "mimetype": "text/x-python",
   "name": "python",
   "nbconvert_exporter": "python",
   "pygments_lexer": "ipython3",
   "version": "3.7.3"
  }
 },
 "nbformat": 4,
 "nbformat_minor": 4
}
